{
 "cells": [
  {
   "cell_type": "code",
   "execution_count": 1,
   "id": "d4fca90e",
   "metadata": {
    "_cell_guid": "b1076dfc-b9ad-4769-8c92-a6c4dae69d19",
    "_uuid": "8f2839f25d086af736a60e9eeb907d3b93b6e0e5",
    "execution": {
     "iopub.execute_input": "2023-01-26T00:54:03.233162Z",
     "iopub.status.busy": "2023-01-26T00:54:03.232283Z",
     "iopub.status.idle": "2023-01-26T00:54:07.707572Z",
     "shell.execute_reply": "2023-01-26T00:54:07.706575Z"
    },
    "papermill": {
     "duration": 4.48684,
     "end_time": "2023-01-26T00:54:07.710101",
     "exception": false,
     "start_time": "2023-01-26T00:54:03.223261",
     "status": "completed"
    },
    "tags": []
   },
   "outputs": [],
   "source": [
    "import numpy as np \n",
    "import pandas as pd \n",
    "import os\n",
    "import tensorflow as tf\n",
    "\n",
    "from glob import glob\n",
    "from tqdm import tqdm\n",
    "\n",
    "import matplotlib.pyplot as plt\n",
    "from PIL import Image"
   ]
  },
  {
   "cell_type": "code",
   "execution_count": 2,
   "id": "77ac4313",
   "metadata": {
    "execution": {
     "iopub.execute_input": "2023-01-26T00:54:07.718247Z",
     "iopub.status.busy": "2023-01-26T00:54:07.717752Z",
     "iopub.status.idle": "2023-01-26T00:54:20.841271Z",
     "shell.execute_reply": "2023-01-26T00:54:20.839449Z"
    },
    "papermill": {
     "duration": 13.13026,
     "end_time": "2023-01-26T00:54:20.843924",
     "exception": false,
     "start_time": "2023-01-26T00:54:07.713664",
     "status": "completed"
    },
    "tags": []
   },
   "outputs": [
    {
     "name": "stderr",
     "output_type": "stream",
     "text": [
      "100%|██████████| 2000/2000 [00:06<00:00, 305.14it/s]\n",
      "100%|██████████| 2000/2000 [00:06<00:00, 313.28it/s]\n"
     ]
    }
   ],
   "source": [
    "X = []\n",
    "Y = []\n",
    "\n",
    "for i in tqdm(glob('/kaggle/input/mrl-dataset/train/Open_Eyes/*')):\n",
    "    temp = np.array(Image.open(i).resize((64,64)))\n",
    "    X.append(temp)\n",
    "    Y.append(1)\n",
    "    \n",
    "for i in tqdm(glob('/kaggle/input/mrl-dataset/train/Closed_Eyes/*')):\n",
    "    temp = np.array(Image.open(i).resize((64,64)))\n",
    "    X.append(temp)\n",
    "    Y.append(0)    \n",
    "\n",
    "\n"
   ]
  },
  {
   "cell_type": "code",
   "execution_count": 3,
   "id": "2289b154",
   "metadata": {
    "execution": {
     "iopub.execute_input": "2023-01-26T00:54:20.866281Z",
     "iopub.status.busy": "2023-01-26T00:54:20.864774Z",
     "iopub.status.idle": "2023-01-26T00:54:20.921240Z",
     "shell.execute_reply": "2023-01-26T00:54:20.920213Z"
    },
    "papermill": {
     "duration": 0.06954,
     "end_time": "2023-01-26T00:54:20.923884",
     "exception": false,
     "start_time": "2023-01-26T00:54:20.854344",
     "status": "completed"
    },
    "tags": []
   },
   "outputs": [],
   "source": [
    "X = np.array(X)\n",
    "X = X/255.0\n",
    "Y = np.array(Y)"
   ]
  },
  {
   "cell_type": "code",
   "execution_count": 4,
   "id": "5961dfdd",
   "metadata": {
    "execution": {
     "iopub.execute_input": "2023-01-26T00:54:20.944254Z",
     "iopub.status.busy": "2023-01-26T00:54:20.943904Z",
     "iopub.status.idle": "2023-01-26T00:54:20.949498Z",
     "shell.execute_reply": "2023-01-26T00:54:20.948519Z"
    },
    "papermill": {
     "duration": 0.018224,
     "end_time": "2023-01-26T00:54:20.951723",
     "exception": false,
     "start_time": "2023-01-26T00:54:20.933499",
     "status": "completed"
    },
    "tags": []
   },
   "outputs": [],
   "source": [
    "X = np.expand_dims(X,-1)"
   ]
  },
  {
   "cell_type": "code",
   "execution_count": 5,
   "id": "54b92731",
   "metadata": {
    "execution": {
     "iopub.execute_input": "2023-01-26T00:54:20.973153Z",
     "iopub.status.busy": "2023-01-26T00:54:20.972124Z",
     "iopub.status.idle": "2023-01-26T00:54:21.566961Z",
     "shell.execute_reply": "2023-01-26T00:54:21.565926Z"
    },
    "papermill": {
     "duration": 0.608252,
     "end_time": "2023-01-26T00:54:21.569644",
     "exception": false,
     "start_time": "2023-01-26T00:54:20.961392",
     "status": "completed"
    },
    "tags": []
   },
   "outputs": [],
   "source": [
    "from sklearn.model_selection import train_test_split\n",
    "x_train, x_test, y_train, y_test = train_test_split(X, Y, test_size=0.33, random_state=42)"
   ]
  },
  {
   "cell_type": "code",
   "execution_count": 6,
   "id": "ab202074",
   "metadata": {
    "execution": {
     "iopub.execute_input": "2023-01-26T00:54:21.591100Z",
     "iopub.status.busy": "2023-01-26T00:54:21.590372Z",
     "iopub.status.idle": "2023-01-26T00:54:25.605370Z",
     "shell.execute_reply": "2023-01-26T00:54:25.604335Z"
    },
    "papermill": {
     "duration": 4.029337,
     "end_time": "2023-01-26T00:54:25.608678",
     "exception": false,
     "start_time": "2023-01-26T00:54:21.579341",
     "status": "completed"
    },
    "tags": []
   },
   "outputs": [
    {
     "name": "stderr",
     "output_type": "stream",
     "text": [
      "2023-01-26 00:54:22.628606: I tensorflow/stream_executor/cuda/cuda_gpu_executor.cc:937] successful NUMA node read from SysFS had negative value (-1), but there must be at least one NUMA node, so returning NUMA node zero\n",
      "2023-01-26 00:54:22.730730: I tensorflow/stream_executor/cuda/cuda_gpu_executor.cc:937] successful NUMA node read from SysFS had negative value (-1), but there must be at least one NUMA node, so returning NUMA node zero\n",
      "2023-01-26 00:54:22.731542: I tensorflow/stream_executor/cuda/cuda_gpu_executor.cc:937] successful NUMA node read from SysFS had negative value (-1), but there must be at least one NUMA node, so returning NUMA node zero\n",
      "2023-01-26 00:54:22.733385: I tensorflow/core/platform/cpu_feature_guard.cc:142] This TensorFlow binary is optimized with oneAPI Deep Neural Network Library (oneDNN) to use the following CPU instructions in performance-critical operations:  AVX2 AVX512F FMA\n",
      "To enable them in other operations, rebuild TensorFlow with the appropriate compiler flags.\n",
      "2023-01-26 00:54:22.733701: I tensorflow/stream_executor/cuda/cuda_gpu_executor.cc:937] successful NUMA node read from SysFS had negative value (-1), but there must be at least one NUMA node, so returning NUMA node zero\n",
      "2023-01-26 00:54:22.734388: I tensorflow/stream_executor/cuda/cuda_gpu_executor.cc:937] successful NUMA node read from SysFS had negative value (-1), but there must be at least one NUMA node, so returning NUMA node zero\n",
      "2023-01-26 00:54:22.735066: I tensorflow/stream_executor/cuda/cuda_gpu_executor.cc:937] successful NUMA node read from SysFS had negative value (-1), but there must be at least one NUMA node, so returning NUMA node zero\n",
      "2023-01-26 00:54:24.923026: I tensorflow/stream_executor/cuda/cuda_gpu_executor.cc:937] successful NUMA node read from SysFS had negative value (-1), but there must be at least one NUMA node, so returning NUMA node zero\n",
      "2023-01-26 00:54:24.923892: I tensorflow/stream_executor/cuda/cuda_gpu_executor.cc:937] successful NUMA node read from SysFS had negative value (-1), but there must be at least one NUMA node, so returning NUMA node zero\n",
      "2023-01-26 00:54:24.924553: I tensorflow/stream_executor/cuda/cuda_gpu_executor.cc:937] successful NUMA node read from SysFS had negative value (-1), but there must be at least one NUMA node, so returning NUMA node zero\n",
      "2023-01-26 00:54:24.925128: I tensorflow/core/common_runtime/gpu/gpu_device.cc:1510] Created device /job:localhost/replica:0/task:0/device:GPU:0 with 15401 MB memory:  -> device: 0, name: Tesla P100-PCIE-16GB, pci bus id: 0000:00:04.0, compute capability: 6.0\n"
     ]
    }
   ],
   "source": [
    "from tensorflow.keras.models import Sequential\n",
    "from tensorflow.keras.layers import Dense, Input, Conv2D, BatchNormalization, MaxPooling2D,Dropout, Flatten\n",
    "\n",
    "model = tf.keras.models.Sequential([\n",
    "      Input(shape=(64, 64, 1)),\n",
    "\n",
    "      Conv2D(filters = 32, kernel_size = 5, strides = 1, activation = 'relu'),\n",
    "      Conv2D(filters = 32, kernel_size = 5, strides = 1, activation = 'relu', use_bias=False),\n",
    "      BatchNormalization(),\n",
    "      MaxPooling2D(strides = 2),\n",
    "      Dropout(0.3),\n",
    "\n",
    "      Conv2D(filters = 64, kernel_size = 3, strides = 1, activation = 'relu'),\n",
    "      Conv2D(filters = 64, kernel_size = 3, strides = 1, activation = 'relu', use_bias=False),\n",
    "      BatchNormalization(),\n",
    "      MaxPooling2D(strides = 2),\n",
    "      Dropout(0.3),\n",
    "\n",
    "      Flatten(),\n",
    "      Dense(units  = 256, activation = 'relu', use_bias=False),\n",
    "      BatchNormalization(),\n",
    "\n",
    "      Dense(units = 128, use_bias=False, activation = 'relu'),\n",
    "\n",
    "      Dense(units = 84, use_bias=False, activation = 'relu'),\n",
    "      BatchNormalization(),\n",
    "      Dropout(0.3),\n",
    "\n",
    "      Dense(units = 1, activation = 'sigmoid')\n",
    "  ])"
   ]
  },
  {
   "cell_type": "code",
   "execution_count": 7,
   "id": "66d7bddd",
   "metadata": {
    "execution": {
     "iopub.execute_input": "2023-01-26T00:54:25.642937Z",
     "iopub.status.busy": "2023-01-26T00:54:25.642519Z",
     "iopub.status.idle": "2023-01-26T00:54:25.661921Z",
     "shell.execute_reply": "2023-01-26T00:54:25.660967Z"
    },
    "papermill": {
     "duration": 0.039419,
     "end_time": "2023-01-26T00:54:25.664744",
     "exception": false,
     "start_time": "2023-01-26T00:54:25.625325",
     "status": "completed"
    },
    "tags": []
   },
   "outputs": [],
   "source": [
    "model.compile(loss='binary_crossentropy',optimizer='adam', metrics=['accuracy'])"
   ]
  },
  {
   "cell_type": "code",
   "execution_count": 8,
   "id": "44da9069",
   "metadata": {
    "execution": {
     "iopub.execute_input": "2023-01-26T00:54:25.698090Z",
     "iopub.status.busy": "2023-01-26T00:54:25.697581Z",
     "iopub.status.idle": "2023-01-26T00:54:52.015022Z",
     "shell.execute_reply": "2023-01-26T00:54:52.013582Z"
    },
    "papermill": {
     "duration": 26.33625,
     "end_time": "2023-01-26T00:54:52.017505",
     "exception": false,
     "start_time": "2023-01-26T00:54:25.681255",
     "status": "completed"
    },
    "tags": []
   },
   "outputs": [
    {
     "name": "stderr",
     "output_type": "stream",
     "text": [
      "2023-01-26 00:54:25.878160: I tensorflow/compiler/mlir/mlir_graph_optimization_pass.cc:185] None of the MLIR Optimization Passes are enabled (registered 2)\n"
     ]
    },
    {
     "name": "stdout",
     "output_type": "stream",
     "text": [
      "Epoch 1/30\n"
     ]
    },
    {
     "name": "stderr",
     "output_type": "stream",
     "text": [
      "2023-01-26 00:54:27.814752: I tensorflow/stream_executor/cuda/cuda_dnn.cc:369] Loaded cuDNN version 8005\n"
     ]
    },
    {
     "name": "stdout",
     "output_type": "stream",
     "text": [
      "67/67 [==============================] - 9s 12ms/step - loss: 0.1086 - accuracy: 0.9613 - val_loss: 1.0387 - val_accuracy: 0.5187\n",
      "\n",
      "Epoch 00001: val_loss improved from inf to 1.03872, saving model to bestModel.h5\n",
      "Epoch 2/30\n",
      "67/67 [==============================] - 1s 8ms/step - loss: 0.0374 - accuracy: 0.9883 - val_loss: 0.9009 - val_accuracy: 0.6549\n",
      "\n",
      "Epoch 00002: val_loss improved from 1.03872 to 0.90087, saving model to bestModel.h5\n",
      "Epoch 3/30\n",
      "67/67 [==============================] - 1s 8ms/step - loss: 0.0191 - accuracy: 0.9953 - val_loss: 1.8946 - val_accuracy: 0.6455\n",
      "\n",
      "Epoch 00003: val_loss did not improve from 0.90087\n",
      "Epoch 4/30\n",
      "67/67 [==============================] - 1s 8ms/step - loss: 0.0223 - accuracy: 0.9930 - val_loss: 0.2818 - val_accuracy: 0.8843\n",
      "\n",
      "Epoch 00004: val_loss improved from 0.90087 to 0.28184, saving model to bestModel.h5\n",
      "Epoch 5/30\n",
      "67/67 [==============================] - 1s 9ms/step - loss: 0.0161 - accuracy: 0.9967 - val_loss: 0.9572 - val_accuracy: 0.7799\n",
      "\n",
      "Epoch 00005: val_loss did not improve from 0.28184\n",
      "Epoch 6/30\n",
      "67/67 [==============================] - 1s 9ms/step - loss: 0.0194 - accuracy: 0.9916 - val_loss: 0.1149 - val_accuracy: 0.9627\n",
      "\n",
      "Epoch 00006: val_loss improved from 0.28184 to 0.11490, saving model to bestModel.h5\n",
      "Epoch 7/30\n",
      "67/67 [==============================] - 1s 9ms/step - loss: 0.0201 - accuracy: 0.9939 - val_loss: 0.0400 - val_accuracy: 0.9944\n",
      "\n",
      "Epoch 00007: val_loss improved from 0.11490 to 0.04003, saving model to bestModel.h5\n",
      "Epoch 8/30\n",
      "67/67 [==============================] - 1s 9ms/step - loss: 0.0162 - accuracy: 0.9949 - val_loss: 0.0100 - val_accuracy: 0.9963\n",
      "\n",
      "Epoch 00008: val_loss improved from 0.04003 to 0.01000, saving model to bestModel.h5\n",
      "Epoch 9/30\n",
      "67/67 [==============================] - 1s 8ms/step - loss: 0.0131 - accuracy: 0.9953 - val_loss: 0.5458 - val_accuracy: 0.8097\n",
      "\n",
      "Epoch 00009: val_loss did not improve from 0.01000\n",
      "Epoch 10/30\n",
      "67/67 [==============================] - 1s 8ms/step - loss: 0.0254 - accuracy: 0.9921 - val_loss: 0.3608 - val_accuracy: 0.8246\n",
      "\n",
      "Epoch 00010: val_loss did not improve from 0.01000\n",
      "Epoch 11/30\n",
      "67/67 [==============================] - 1s 8ms/step - loss: 0.0072 - accuracy: 0.9986 - val_loss: 0.0159 - val_accuracy: 0.9944\n",
      "\n",
      "Epoch 00011: val_loss did not improve from 0.01000\n",
      "Epoch 12/30\n",
      "67/67 [==============================] - 1s 8ms/step - loss: 0.0173 - accuracy: 0.9939 - val_loss: 0.4025 - val_accuracy: 0.8787\n",
      "\n",
      "Epoch 00012: val_loss did not improve from 0.01000\n",
      "Epoch 13/30\n",
      "67/67 [==============================] - 1s 8ms/step - loss: 0.0133 - accuracy: 0.9967 - val_loss: 0.2917 - val_accuracy: 0.8769\n",
      "\n",
      "Epoch 00013: val_loss did not improve from 0.01000\n",
      "Epoch 14/30\n",
      "67/67 [==============================] - 1s 8ms/step - loss: 0.0020 - accuracy: 0.9995 - val_loss: 8.5469e-04 - val_accuracy: 1.0000\n",
      "\n",
      "Epoch 00014: val_loss improved from 0.01000 to 0.00085, saving model to bestModel.h5\n",
      "Epoch 15/30\n",
      "67/67 [==============================] - 1s 8ms/step - loss: 0.0012 - accuracy: 1.0000 - val_loss: 1.0839e-04 - val_accuracy: 1.0000\n",
      "\n",
      "Epoch 00015: val_loss improved from 0.00085 to 0.00011, saving model to bestModel.h5\n",
      "Epoch 16/30\n",
      "67/67 [==============================] - 1s 8ms/step - loss: 0.0076 - accuracy: 0.9977 - val_loss: 0.2815 - val_accuracy: 0.8825\n",
      "\n",
      "Epoch 00016: val_loss did not improve from 0.00011\n",
      "Epoch 17/30\n",
      "67/67 [==============================] - 1s 8ms/step - loss: 0.0021 - accuracy: 0.9995 - val_loss: 0.0134 - val_accuracy: 0.9944\n",
      "\n",
      "Epoch 00017: val_loss did not improve from 0.00011\n",
      "Epoch 18/30\n",
      "67/67 [==============================] - 1s 9ms/step - loss: 0.0174 - accuracy: 0.9939 - val_loss: 0.5912 - val_accuracy: 0.8451\n",
      "\n",
      "Epoch 00018: val_loss did not improve from 0.00011\n",
      "Epoch 19/30\n",
      "67/67 [==============================] - 1s 8ms/step - loss: 0.0093 - accuracy: 0.9953 - val_loss: 0.6418 - val_accuracy: 0.7108\n",
      "\n",
      "Epoch 00019: val_loss did not improve from 0.00011\n",
      "Epoch 20/30\n",
      "67/67 [==============================] - 1s 8ms/step - loss: 0.0122 - accuracy: 0.9963 - val_loss: 0.4204 - val_accuracy: 0.7649\n",
      "\n",
      "Epoch 00020: val_loss did not improve from 0.00011\n",
      "Epoch 21/30\n",
      "67/67 [==============================] - 1s 8ms/step - loss: 0.0060 - accuracy: 0.9981 - val_loss: 0.0421 - val_accuracy: 0.9888\n",
      "\n",
      "Epoch 00021: val_loss did not improve from 0.00011\n",
      "Epoch 22/30\n",
      "67/67 [==============================] - 1s 8ms/step - loss: 0.0039 - accuracy: 0.9991 - val_loss: 0.0080 - val_accuracy: 0.9963\n",
      "\n",
      "Epoch 00022: val_loss did not improve from 0.00011\n",
      "Epoch 23/30\n",
      "67/67 [==============================] - 1s 8ms/step - loss: 0.0018 - accuracy: 0.9995 - val_loss: 0.0041 - val_accuracy: 1.0000\n",
      "\n",
      "Epoch 00023: val_loss did not improve from 0.00011\n",
      "Epoch 24/30\n",
      "67/67 [==============================] - 1s 8ms/step - loss: 0.0091 - accuracy: 0.9972 - val_loss: 0.0287 - val_accuracy: 0.9925\n",
      "\n",
      "Epoch 00024: val_loss did not improve from 0.00011\n",
      "Epoch 25/30\n",
      "67/67 [==============================] - 1s 8ms/step - loss: 0.0145 - accuracy: 0.9953 - val_loss: 2.8552 - val_accuracy: 0.6828\n",
      "\n",
      "Epoch 00025: val_loss did not improve from 0.00011\n",
      "Epoch 26/30\n",
      "67/67 [==============================] - 1s 11ms/step - loss: 0.0129 - accuracy: 0.9958 - val_loss: 0.0116 - val_accuracy: 0.9981\n",
      "\n",
      "Epoch 00026: val_loss did not improve from 0.00011\n",
      "Epoch 27/30\n",
      "67/67 [==============================] - 1s 8ms/step - loss: 0.0032 - accuracy: 0.9991 - val_loss: 0.0109 - val_accuracy: 0.9963\n",
      "\n",
      "Epoch 00027: val_loss did not improve from 0.00011\n",
      "Epoch 28/30\n",
      "67/67 [==============================] - 1s 8ms/step - loss: 0.0025 - accuracy: 0.9991 - val_loss: 0.0112 - val_accuracy: 0.9981\n",
      "\n",
      "Epoch 00028: val_loss did not improve from 0.00011\n",
      "Epoch 29/30\n",
      "67/67 [==============================] - 1s 8ms/step - loss: 0.0071 - accuracy: 0.9972 - val_loss: 0.1214 - val_accuracy: 0.9478\n",
      "\n",
      "Epoch 00029: val_loss did not improve from 0.00011\n",
      "Epoch 30/30\n",
      "67/67 [==============================] - 1s 8ms/step - loss: 0.0172 - accuracy: 0.9944 - val_loss: 0.0936 - val_accuracy: 0.9701\n",
      "\n",
      "Epoch 00030: val_loss did not improve from 0.00011\n"
     ]
    },
    {
     "data": {
      "text/plain": [
       "<keras.callbacks.History at 0x7f52d4b4be90>"
      ]
     },
     "execution_count": 8,
     "metadata": {},
     "output_type": "execute_result"
    }
   ],
   "source": [
    "callback = tf.keras.callbacks.ModelCheckpoint(\n",
    "    filepath='bestModel.h5',\n",
    "    save_weights_only=False,\n",
    "    monitor='val_loss',\n",
    "    mode='min',\n",
    "    save_best_only=True,\n",
    "    verbose =1)\n",
    "model.fit(x_train, y_train, validation_split=0.2, epochs=30, batch_size=32, callbacks=callback)"
   ]
  },
  {
   "cell_type": "code",
   "execution_count": 9,
   "id": "c012dce7",
   "metadata": {
    "execution": {
     "iopub.execute_input": "2023-01-26T00:54:52.075440Z",
     "iopub.status.busy": "2023-01-26T00:54:52.074784Z",
     "iopub.status.idle": "2023-01-26T00:54:52.462519Z",
     "shell.execute_reply": "2023-01-26T00:54:52.461536Z"
    },
    "papermill": {
     "duration": 0.418465,
     "end_time": "2023-01-26T00:54:52.464613",
     "exception": false,
     "start_time": "2023-01-26T00:54:52.046148",
     "status": "completed"
    },
    "tags": []
   },
   "outputs": [
    {
     "name": "stdout",
     "output_type": "stream",
     "text": [
      "42/42 [==============================] - 0s 4ms/step - loss: 0.1229 - accuracy: 0.9614\n"
     ]
    },
    {
     "data": {
      "text/plain": [
       "[0.12292961031198502, 0.9613636136054993]"
      ]
     },
     "execution_count": 9,
     "metadata": {},
     "output_type": "execute_result"
    }
   ],
   "source": [
    "model.evaluate(x_test, y_test)"
   ]
  },
  {
   "cell_type": "code",
   "execution_count": 10,
   "id": "85b233f4",
   "metadata": {
    "execution": {
     "iopub.execute_input": "2023-01-26T00:54:52.521194Z",
     "iopub.status.busy": "2023-01-26T00:54:52.520898Z",
     "iopub.status.idle": "2023-01-26T00:54:53.251010Z",
     "shell.execute_reply": "2023-01-26T00:54:53.249596Z"
    },
    "papermill": {
     "duration": 0.76073,
     "end_time": "2023-01-26T00:54:53.253174",
     "exception": false,
     "start_time": "2023-01-26T00:54:52.492444",
     "status": "completed"
    },
    "tags": []
   },
   "outputs": [
    {
     "name": "stdout",
     "output_type": "stream",
     "text": [
      "42/42 [==============================] - 0s 3ms/step - loss: 0.0029 - accuracy: 0.9985\n"
     ]
    },
    {
     "data": {
      "text/plain": [
       "[0.0028635188937187195, 0.9984848499298096]"
      ]
     },
     "execution_count": 10,
     "metadata": {},
     "output_type": "execute_result"
    }
   ],
   "source": [
    "from keras.models import load_model\n",
    "best_model = load_model('/kaggle/working/bestModel.h5')\n",
    "best_model.evaluate(x_test, y_test)"
   ]
  },
  {
   "cell_type": "code",
   "execution_count": 11,
   "id": "1262d7f5",
   "metadata": {
    "execution": {
     "iopub.execute_input": "2023-01-26T00:54:53.311958Z",
     "iopub.status.busy": "2023-01-26T00:54:53.311060Z",
     "iopub.status.idle": "2023-01-26T00:54:54.581884Z",
     "shell.execute_reply": "2023-01-26T00:54:54.580800Z"
    },
    "papermill": {
     "duration": 1.303876,
     "end_time": "2023-01-26T00:54:54.585385",
     "exception": false,
     "start_time": "2023-01-26T00:54:53.281509",
     "status": "completed"
    },
    "tags": []
   },
   "outputs": [
    {
     "data": {
      "image/png": "[encoded data removed]",
      "text/plain": [
       "<Figure size 432x288 with 1 Axes>"
      ]
     },
     "metadata": {
      "needs_background": "light"
     },
     "output_type": "display_data"
    },
    {
     "name": "stdout",
     "output_type": "stream",
     "text": [
      "Open\n"
     ]
    },
    {
     "data": {
      "image/png": "[encoded data removed]",
      "text/plain": [
       "<Figure size 432x288 with 1 Axes>"
      ]
     },
     "metadata": {
      "needs_background": "light"
     },
     "output_type": "display_data"
    },
    {
     "name": "stdout",
     "output_type": "stream",
     "text": [
      "Closed\n"
     ]
    },
    {
     "data": {
      "image/png": "[encoded data removed]",
      "text/plain": [
       "<Figure size 432x288 with 1 Axes>"
      ]
     },
     "metadata": {
      "needs_background": "light"
     },
     "output_type": "display_data"
    },
    {
     "name": "stdout",
     "output_type": "stream",
     "text": [
      "Open\n"
     ]
    },
    {
     "data": {
      "image/png": "[encoded data removed]",
      "text/plain": [
       "<Figure size 432x288 with 1 Axes>"
      ]
     },
     "metadata": {
      "needs_background": "light"
     },
     "output_type": "display_data"
    },
    {
     "name": "stdout",
     "output_type": "stream",
     "text": [
      "Closed\n"
     ]
    },
    {
     "data": {
      "image/png": "[encoded data removed]",
      "text/plain": [
       "<Figure size 432x288 with 1 Axes>"
      ]
     },
     "metadata": {
      "needs_background": "light"
     },
     "output_type": "display_data"
    },
    {
     "name": "stdout",
     "output_type": "stream",
     "text": [
      "Closed\n"
     ]
    }
   ],
   "source": [
    "for i in x_test[0:5]:\n",
    "    result = best_model.predict(np.expand_dims(i,0))\n",
    "    plt.imshow(i)\n",
    "    plt.show()\n",
    "    \n",
    "    if result > 0.5:\n",
    "        print('Open')\n",
    "    else:\n",
    "        print(\"Closed\")\n",
    "    "
   ]
  },
  {
   "cell_type": "code",
   "execution_count": 12,
   "id": "82704656",
   "metadata": {
    "execution": {
     "iopub.execute_input": "2023-01-26T00:54:54.649150Z",
     "iopub.status.busy": "2023-01-26T00:54:54.648840Z",
     "iopub.status.idle": "2023-01-26T00:54:55.182144Z",
     "shell.execute_reply": "2023-01-26T00:54:55.181178Z"
    },
    "papermill": {
     "duration": 0.56718,
     "end_time": "2023-01-26T00:54:55.184284",
     "exception": false,
     "start_time": "2023-01-26T00:54:54.617104",
     "status": "completed"
    },
    "tags": []
   },
   "outputs": [
    {
     "data": {
      "text/plain": [
       "Text(0.5, 24.0, 'Actual')"
      ]
     },
     "execution_count": 12,
     "metadata": {},
     "output_type": "execute_result"
    },
    {
     "data": {
      "image/png": "[encoded data removed]",
      "text/plain": [
       "<Figure size 1080x360 with 2 Axes>"
      ]
     },
     "metadata": {
      "needs_background": "light"
     },
     "output_type": "display_data"
    }
   ],
   "source": [
    "from sklearn.metrics import confusion_matrix\n",
    "import seaborn as sns\n",
    "\n",
    "plt.figure(figsize=(15, 5))\n",
    "\n",
    "preds = best_model.predict(x_test)\n",
    "preds = (preds >= 0.5).astype(np.int32)\n",
    "cm = confusion_matrix(y_test, preds)\n",
    "df_cm = pd.DataFrame(cm, index=['closed', 'Open'], columns=['Closed', 'Open'])\n",
    "plt.subplot(121)\n",
    "plt.title(\"Confusion matrix\\n\")\n",
    "sns.heatmap(df_cm, annot=True, fmt=\"d\", cmap=\"YlGnBu\")\n",
    "plt.ylabel(\"Predicted\")\n",
    "plt.xlabel(\"Actual\")"
   ]
  },
  {
   "cell_type": "code",
   "execution_count": null,
   "id": "362306a9",
   "metadata": {
    "papermill": {
     "duration": 0.03013,
     "end_time": "2023-01-26T00:54:55.244566",
     "exception": false,
     "start_time": "2023-01-26T00:54:55.214436",
     "status": "completed"
    },
    "tags": []
   },
   "outputs": [],
   "source": []
  }
 ],
 "metadata": {
  "kernelspec": {
   "display_name": "Python 3",
   "language": "python",
   "name": "python3"
  },
  "language_info": {
   "codemirror_mode": {
    "name": "ipython",
    "version": 3
   },
   "file_extension": ".py",
   "mimetype": "text/x-python",
   "name": "python",
   "nbconvert_exporter": "python",
   "pygments_lexer": "ipython3",
   "version": "3.7.12"
  },
  "papermill": {
   "default_parameters": {},
   "duration": 63.241072,
   "end_time": "2023-01-26T00:54:58.999128",
   "environment_variables": {},
   "exception": null,
   "input_path": "__notebook__.ipynb",
   "output_path": "__notebook__.ipynb",
   "parameters": {},
   "start_time": "2023-01-26T00:53:55.758056",
   "version": "2.3.4"
  }
 },
 "nbformat": 4,
 "nbformat_minor": 5
}
